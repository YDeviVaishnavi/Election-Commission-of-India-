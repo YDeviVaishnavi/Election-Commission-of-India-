{
  "nbformat": 4,
  "nbformat_minor": 0,
  "metadata": {
    "colab": {
      "provenance": []
    },
    "kernelspec": {
      "name": "python3",
      "display_name": "Python 3"
    },
    "language_info": {
      "name": "python"
    }
  },
  "cells": [
    {
      "cell_type": "markdown",
      "source": [
        "# **Data Analysis on the Lok Sabha Election of 2024**"
      ],
      "metadata": {
        "id": "kMANZMbgA_JP"
      }
    },
    {
      "cell_type": "code",
      "execution_count": 7,
      "metadata": {
        "colab": {
          "base_uri": "https://localhost:8080/"
        },
        "id": "zsuPxiEvAuIJ",
        "outputId": "d0f9642e-e61b-492a-c541-2135a85df800"
      },
      "outputs": [
        {
          "output_type": "stream",
          "name": "stdout",
          "text": [
            "First few rows of the dataframe:\n",
            "                Constituency  const no        leading candidate  \\\n",
            "0                     Almora         3               AJAY TAMTA   \n",
            "1                    Garhwal         2              ANIL BALUNI   \n",
            "2                   Haridwar         5    TRIVENDRA SINGH RAWAT   \n",
            "3  Nainital-Udhamsingh Nagar         4               AJAY BHATT   \n",
            "4              Tehri Garhwal         1  MALA RAJYA LAKSHMI SHAH   \n",
            "\n",
            "            leading party  Leading In  Won in  Trailing in trailing candidate  \\\n",
            "0  Bharatiya Janata Party           0       5            0      PRADEEP TAMTA   \n",
            "1  Bharatiya Janata Party           0       5            0     GANESH GODIYAL   \n",
            "2  Bharatiya Janata Party           0       5            0     VIRENDRA RAWAT   \n",
            "3  Bharatiya Janata Party           0       5            0      PRAKASH JOSHI   \n",
            "4  Bharatiya Janata Party           0       5            0  JOT SINGH GUNSOLA   \n",
            "\n",
            "             trailing party  Leading in2  Won in3  Trailing in4    Margin  \\\n",
            "0  Indian National Congress            0        0             0  234097.0   \n",
            "1  Indian National Congress            0        0             0  163503.0   \n",
            "2  Indian National Congress            0        0             0  164056.0   \n",
            "3  Indian National Congress            0        0             0  334548.0   \n",
            "4  Indian National Congress            0        0             0  272493.0   \n",
            "\n",
            "            Status      State  \n",
            "0  Result Declared  uttarkand  \n",
            "1  Result Declared  uttarkand  \n",
            "2  Result Declared  uttarkand  \n",
            "3  Result Declared  uttarkand  \n",
            "4  Result Declared  uttarkand  \n"
          ]
        }
      ],
      "source": [
        "import pandas as pd\n",
        "\n",
        "file_path = '/content/all the states.xlsx'\n",
        "df = pd.read_excel(file_path)\n",
        "\n",
        "print(\"First few rows of the dataframe:\")\n",
        "print(df.head())\n"
      ]
    },
    {
      "cell_type": "markdown",
      "source": [
        "# 1. Unique Locations"
      ],
      "metadata": {
        "id": "tM01VAVDBBOL"
      }
    },
    {
      "cell_type": "code",
      "source": [
        "\n",
        "print(\" Unique Locations\")\n",
        "unique_locations = df['Constituency']\n",
        "print(unique_locations)\n"
      ],
      "metadata": {
        "colab": {
          "base_uri": "https://localhost:8080/"
        },
        "id": "Hqn77IRtA9DA",
        "outputId": "259bfe4e-15b5-4383-dfe2-31a32a0e12e1"
      },
      "execution_count": 9,
      "outputs": [
        {
          "output_type": "stream",
          "name": "stdout",
          "text": [
            " Unique Locations\n",
            "0                         Almora\n",
            "1                        Garhwal\n",
            "2                       Haridwar\n",
            "3      Nainital-Udhamsingh Nagar\n",
            "4                  Tehri Garhwal\n",
            "                 ...            \n",
            "538                    Lakhimpur\n",
            "539                       Nagaon\n",
            "540                      Silchar\n",
            "541                     Sonitpur\n",
            "542    Andaman & Nicobar Islands\n",
            "Name: Constituency, Length: 543, dtype: object\n"
          ]
        }
      ]
    },
    {
      "cell_type": "markdown",
      "source": [
        "# 2. Political Parties Representation"
      ],
      "metadata": {
        "id": "vwgl2VrPA-B-"
      }
    },
    {
      "cell_type": "code",
      "source": [
        "\n",
        "print(\"\\nInsight 2: Political Parties Representation\")\n",
        "political_parties = df[['leading party', 'trailing party']].apply(pd.Series.value_counts)\n",
        "print(political_parties)\n"
      ],
      "metadata": {
        "colab": {
          "base_uri": "https://localhost:8080/"
        },
        "id": "QmuAqr5CBrko",
        "outputId": "717c62a1-827b-404e-b5ae-e871c1352871"
      },
      "execution_count": 10,
      "outputs": [
        {
          "output_type": "stream",
          "name": "stdout",
          "text": [
            "\n",
            "Insight 2: Political Parties Representation\n",
            "                                          leading party  trailing party\n",
            "AJSU Party                                          1.0             NaN\n",
            "Aam Aadmi Party                                     3.0            13.0\n",
            "Aazad Samaj Party (Kanshi Ram)                      1.0             NaN\n",
            "All India Anna Dravida Munnetra Kazhagam            NaN            24.0\n",
            "All India Majlis-E-Ittehadul Muslimeen              1.0             1.0\n",
            "...                                                 ...             ...\n",
            "Voice of the People Party                           1.0             NaN\n",
            "Yuvajana Sramika Rythu Congress Party               4.0            21.0\n",
            "Zoram People’s Movement                             1.0             NaN\n",
            "communist party of india (markxist)                 1.0             NaN\n",
            "indian national congress                            1.0             NaN\n",
            "\n",
            "[64 rows x 2 columns]\n"
          ]
        }
      ]
    },
    {
      "cell_type": "markdown",
      "source": [
        "# 3.  Election Results Analysis"
      ],
      "metadata": {
        "id": "ci59_vxmCFHP"
      }
    },
    {
      "cell_type": "code",
      "source": [
        "\n",
        "print(\"\\nInsight 3: Election Results Analysis\")\n",
        "election_results = df['Status'].value_counts()\n",
        "print(election_results)\n"
      ],
      "metadata": {
        "colab": {
          "base_uri": "https://localhost:8080/"
        },
        "id": "6Htk416oCGuZ",
        "outputId": "1309b3a8-eedc-4c5f-dd18-74e4168d40a7"
      },
      "execution_count": 11,
      "outputs": [
        {
          "output_type": "stream",
          "name": "stdout",
          "text": [
            "\n",
            "Insight 3: Election Results Analysis\n",
            "Status\n",
            "Result Declared    542\n",
            "Uncontested          1\n",
            "Name: count, dtype: int64\n"
          ]
        }
      ]
    },
    {
      "cell_type": "markdown",
      "source": [
        "# 4. Candidates Information"
      ],
      "metadata": {
        "id": "9eyelK34CZof"
      }
    },
    {
      "cell_type": "code",
      "source": [
        "\n",
        "print(\"\\nInsight 4: Candidates Information\")\n",
        "candidates = df[['Leading In', 'Leading in2']]\n",
        "print(candidates)\n"
      ],
      "metadata": {
        "colab": {
          "base_uri": "https://localhost:8080/"
        },
        "id": "X3Ac5xXYCdce",
        "outputId": "a8c7ee5f-f7f4-4e79-9347-a4c91d49b0d6"
      },
      "execution_count": 12,
      "outputs": [
        {
          "output_type": "stream",
          "name": "stdout",
          "text": [
            "\n",
            "Insight 4: Candidates Information\n",
            "     Leading In  Leading in2\n",
            "0             0            0\n",
            "1             0            0\n",
            "2             0            0\n",
            "3             0            0\n",
            "4             0            0\n",
            "..          ...          ...\n",
            "538           0            0\n",
            "539           0            0\n",
            "540           0            0\n",
            "541           0            0\n",
            "542           0            0\n",
            "\n",
            "[543 rows x 2 columns]\n"
          ]
        }
      ]
    },
    {
      "cell_type": "markdown",
      "source": [
        "# 5. Votes Data"
      ],
      "metadata": {
        "id": "DOsQJQtBCqrQ"
      }
    },
    {
      "cell_type": "code",
      "source": [
        "\n",
        "print(\"\\nInsight 5: Votes Data\")\n",
        "votes_data = df['Margin'].fillna(0).astype(int).describe()\n",
        "print(votes_data)\n"
      ],
      "metadata": {
        "colab": {
          "base_uri": "https://localhost:8080/"
        },
        "id": "qRQCw4hKC1Ex",
        "outputId": "5dd6be54-9e44-449c-bc0d-2560715ff3e3"
      },
      "execution_count": 15,
      "outputs": [
        {
          "output_type": "stream",
          "name": "stdout",
          "text": [
            "\n",
            "Insight 5: Votes Data\n",
            "count    5.430000e+02\n",
            "mean     1.620511e+05\n",
            "std      1.472917e+05\n",
            "min      0.000000e+00\n",
            "25%      5.860700e+04\n",
            "50%      1.214940e+05\n",
            "75%      2.227650e+05\n",
            "max      1.175092e+06\n",
            "Name: Margin, dtype: float64\n"
          ]
        }
      ]
    },
    {
      "cell_type": "markdown",
      "source": [
        "# 6. Potential for Data Analysis"
      ],
      "metadata": {
        "id": "aKQVwHgJLC-p"
      }
    },
    {
      "cell_type": "code",
      "source": [
        "\n",
        "print(\"\\nInsight 6: Potential for Data Analysis\")\n",
        "\n",
        "df['Margin'] = df['Margin'].fillna(0).astype(int)\n",
        "\n",
        "votes_by_party = df.groupby('Won in')['Margin'].sum()\n",
        "print(votes_by_party)\n",
        "\n"
      ],
      "metadata": {
        "colab": {
          "base_uri": "https://localhost:8080/"
        },
        "id": "XV0R0AfJLEQP",
        "outputId": "0a068702-658b-4a62-b00f-62b9dea3478e"
      },
      "execution_count": 18,
      "outputs": [
        {
          "output_type": "stream",
          "name": "stdout",
          "text": [
            "\n",
            "Insight 6: Potential for Data Analysis\n",
            "Won in\n",
            "1      4083232\n",
            "2      5580403\n",
            "3      2906993\n",
            "4      1141340\n",
            "5      3188429\n",
            "6       985908\n",
            "7      2087076\n",
            "8      6618694\n",
            "9      7236925\n",
            "10     1790278\n",
            "12     3581491\n",
            "13     1175888\n",
            "14     4656359\n",
            "16     3660927\n",
            "17     2819778\n",
            "20     2088545\n",
            "22     5081582\n",
            "25     8128213\n",
            "29    14810561\n",
            "33     3501557\n",
            "37     2869566\n",
            "Name: Margin, dtype: int64\n"
          ]
        }
      ]
    },
    {
      "cell_type": "markdown",
      "source": [
        "# 7. Regional Focus"
      ],
      "metadata": {
        "id": "g4NaGHLGLvZG"
      }
    },
    {
      "cell_type": "code",
      "source": [
        "\n",
        "print(\"\\nInsight 7: Regional Focus\")\n",
        "regional_focus = df['State'].value_counts()\n",
        "print(regional_focus)\n"
      ],
      "metadata": {
        "colab": {
          "base_uri": "https://localhost:8080/"
        },
        "id": "LjFNHJF9Lyxs",
        "outputId": "b2a60f72-7feb-437e-8020-d27a6057e7f7"
      },
      "execution_count": 19,
      "outputs": [
        {
          "output_type": "stream",
          "name": "stdout",
          "text": [
            "\n",
            "Insight 7: Regional Focus\n",
            "State\n",
            "Uttar Pradesh                           80\n",
            "Maharastra                              48\n",
            "Bihar                                   40\n",
            "Tamilnadu                               39\n",
            "Madhya Pradhesh                         29\n",
            "Karanataka                              28\n",
            "Gujarat                                 26\n",
            "Rajasthan                               25\n",
            "Andhra Pradesh                          25\n",
            "West Bengal                             21\n",
            "Odisha                                  21\n",
            "West bengal                             20\n",
            "Kerala                                  20\n",
            "telangana                               17\n",
            "Assam                                   14\n",
            "Jharkand                                14\n",
            "Punjab                                  13\n",
            "Chattisgarh                             11\n",
            "Haryana                                 10\n",
            "Delhi                                    7\n",
            "Jammu And Kashmir                        5\n",
            "uttarkand                                5\n",
            "Himachal Pradhesh                        4\n",
            "Arunachal Pradesh                        2\n",
            "tripura                                  2\n",
            "Dadra & Nagar Haveli and Daman & Diu     2\n",
            "Goa                                      2\n",
            "Meghalaya                                2\n",
            "Manipur                                  2\n",
            "Pudhucherry                              1\n",
            "Sikkim                                   1\n",
            "Nagaland                                 1\n",
            "Mizoram                                  1\n",
            "Lakshadweep                              1\n",
            "Ladakh                                   1\n",
            "Chandigarh                               1\n",
            "State                                    1\n",
            "Andaman & Nicobar Islands                1\n",
            "Name: count, dtype: int64\n"
          ]
        }
      ]
    },
    {
      "cell_type": "markdown",
      "source": [
        "# 8. Historical Election Data"
      ],
      "metadata": {
        "id": "_7zs20ViL6UQ"
      }
    },
    {
      "cell_type": "code",
      "source": [
        "# Insight 8: Historical Election Data\n",
        "print(\"\\nInsight 8: Historical Election Data\")\n",
        "historical_data = df[['Constituency', 'leading candidate', 'leading party', 'trailing candidate', 'trailing party']]\n",
        "print(historical_data.head())\n"
      ],
      "metadata": {
        "colab": {
          "base_uri": "https://localhost:8080/"
        },
        "id": "Kev32JNfL7NU",
        "outputId": "8b7d0f1b-ead9-46db-ecf4-b2068991897c"
      },
      "execution_count": 20,
      "outputs": [
        {
          "output_type": "stream",
          "name": "stdout",
          "text": [
            "\n",
            "Insight 8: Historical Election Data\n",
            "                Constituency        leading candidate           leading party  \\\n",
            "0                     Almora               AJAY TAMTA  Bharatiya Janata Party   \n",
            "1                    Garhwal              ANIL BALUNI  Bharatiya Janata Party   \n",
            "2                   Haridwar    TRIVENDRA SINGH RAWAT  Bharatiya Janata Party   \n",
            "3  Nainital-Udhamsingh Nagar               AJAY BHATT  Bharatiya Janata Party   \n",
            "4              Tehri Garhwal  MALA RAJYA LAKSHMI SHAH  Bharatiya Janata Party   \n",
            "\n",
            "  trailing candidate            trailing party  \n",
            "0      PRADEEP TAMTA  Indian National Congress  \n",
            "1     GANESH GODIYAL  Indian National Congress  \n",
            "2     VIRENDRA RAWAT  Indian National Congress  \n",
            "3      PRAKASH JOSHI  Indian National Congress  \n",
            "4  JOT SINGH GUNSOLA  Indian National Congress  \n"
          ]
        }
      ]
    },
    {
      "cell_type": "markdown",
      "source": [
        "# 9. Results Status"
      ],
      "metadata": {
        "id": "Sl3XzxAtMUKW"
      }
    },
    {
      "cell_type": "code",
      "source": [
        "\n",
        "print(\"\\nInsight 9: Results Status\")\n",
        "results_status = df['Status'].value_counts()\n",
        "print(results_status)\n"
      ],
      "metadata": {
        "colab": {
          "base_uri": "https://localhost:8080/"
        },
        "id": "S8aPResZMVZm",
        "outputId": "f1577f14-37c8-48a3-bf67-a4139d17e099"
      },
      "execution_count": 21,
      "outputs": [
        {
          "output_type": "stream",
          "name": "stdout",
          "text": [
            "\n",
            "Insight 9: Results Status\n",
            "Status\n",
            "Result Declared    542\n",
            "Uncontested          1\n",
            "Name: count, dtype: int64\n"
          ]
        }
      ]
    },
    {
      "cell_type": "markdown",
      "source": [
        "# 10. Constituency Development\n",
        "\n"
      ],
      "metadata": {
        "id": "AMG0I0pCMb66"
      }
    },
    {
      "cell_type": "code",
      "source": [
        "# Insight 10: Constituency Development\n",
        "print(\"\\nInsight 10: Constituency Development\")\n",
        "constituency_development = df[['Constituency', 'Margin']].groupby('Constituency').sum()\n",
        "print(constituency_development)\n"
      ],
      "metadata": {
        "colab": {
          "base_uri": "https://localhost:8080/"
        },
        "id": "ukNwS9T_Mgzf",
        "outputId": "7a2ba66e-c2de-4f26-e3f8-d5a05af02883"
      },
      "execution_count": 23,
      "outputs": [
        {
          "output_type": "stream",
          "name": "stdout",
          "text": [
            "\n",
            "Insight 10: Constituency Development\n",
            "                  Margin\n",
            "Constituency            \n",
            "AJMER             329991\n",
            "ALWAR              48282\n",
            "AMBALA             49036\n",
            "ANANTNAG-RAJOURI  281794\n",
            "ARAKKONAM         306559\n",
            "...                  ...\n",
            "Wardha             81648\n",
            "Wayanad           364422\n",
            "West Delhi        199013\n",
            "Yavatmal- Washim   94473\n",
            "Zahirabad          46188\n",
            "\n",
            "[541 rows x 1 columns]\n"
          ]
        }
      ]
    }
  ]
}